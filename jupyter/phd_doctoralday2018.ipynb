{
 "cells": [
  {
   "cell_type": "code",
   "execution_count": 2,
   "metadata": {},
   "outputs": [
    {
     "name": "stdout",
     "output_type": "stream",
     "text": [
      "The autoreload extension is already loaded. To reload it, use:\n",
      "  %reload_ext autoreload\n",
      "PhD library version 0.1\n",
      "Created on 2017-11-19\n",
      "Last update 2018-01-29\n"
     ]
    }
   ],
   "source": [
    "# JUPYTER SPECIALS (lines 1 and 2 are to auto-reload after doing any change in php_lib)\n",
    "%load_ext autoreload\n",
    "%autoreload 2\n",
    "%matplotlib inline\n",
    "# ADD REPO DIR TO SYSPATH, THEN IMPORT ALL LIBRARIES\n",
    "phd_repo_path = '/home/cj/Dropbox/Personal/Study/PhD/00_repository/phd_repo'\n",
    "import sys; sys.path.insert(0, phd_repo_path)\n",
    "from phd_lib import *\n",
    "# phd.import_all_libraries()\n",
    "phd.printVersion()"
   ]
  },
  {
   "cell_type": "code",
   "execution_count": 3,
   "metadata": {
    "collapsed": true
   },
   "outputs": [],
   "source": [
    "import py3Dmol\n",
    "def drawit(m, width=400,height=400,p=None,confId=-1):\n",
    "    mb = Chem.MolToMolBlock(m,confId=confId)\n",
    "    if p is None:\n",
    "        p = py3Dmol.view(width=width,height=height)\n",
    "    p.removeAllModels()\n",
    "    p.addModel(mb,'sdf')\n",
    "    p.setStyle({'stick':{}})\n",
    "    # p.setBackgroundColor('0xeeeeee')\n",
    "    p.setBackgroundColor('0xffffff')\n",
    "    p.zoomTo()\n",
    "    return p.show()"
   ]
  },
  {
   "cell_type": "code",
   "execution_count": 4,
   "metadata": {},
   "outputs": [
    {
     "name": "stdout",
     "output_type": "stream",
     "text": [
      "/home/cj/Downloads/dataset_test/lbvs-environment/data/datasets/10.1021%2Fci200412p/molecules/sdf/ACM1_Agonist_Ligands.sdf\n",
      "len(mols_ligs) 806\n"
     ]
    },
    {
     "name": "stderr",
     "output_type": "stream",
     "text": [
      "RDKit ERROR: [11:04:06] Explicit valence for atom # 15 N, 5, is greater than permitted\n",
      "RDKit ERROR: [11:04:06] ERROR: Could not sanitize molecule ending on line 443561\n"
     ]
    },
    {
     "name": "stdout",
     "output_type": "stream",
     "text": [
      "/home/cj/Downloads/dataset_test/lbvs-environment/data/datasets/10.1021%2Fci200412p/molecules/sdf/ACM1_Agonist_Decoys.sdf\n",
      "len(mols_decs) 31433\n"
     ]
    }
   ],
   "source": [
    "dataset_name = '10.1021%2Fci200412p'\n",
    "rootPath = '/home/cj/Downloads/dataset_test/lbvs-environment/data/datasets/' + dataset_name + '/molecules/sdf/'\n",
    "target = 'ACM1_Agonist'\n",
    "bind_type = 'Ligands'\n",
    "sdfdir = rootPath + target + '_' + bind_type + '.sdf'\n",
    "mols_ligs = [ Chem.RWMol(mol) for mol in Chem.SDMolSupplier(sdfdir) if mol != None ]\n",
    "print(sdfdir + \"\\nlen(mols_ligs)\", len(mols_ligs))\n",
    "bind_type = 'Decoys'\n",
    "sdfdir = rootPath + target + '_' + bind_type + '.sdf'\n",
    "mols_decs = [ Chem.RWMol(mol) for mol in Chem.SDMolSupplier(sdfdir) if mol != None ]\n",
    "print(sdfdir + \"\\nlen(mols_decs)\", len(mols_decs))"
   ]
  },
  {
   "cell_type": "code",
   "execution_count": 8,
   "metadata": {},
   "outputs": [
    {
     "name": "stdout",
     "output_type": "stream",
     "text": [
      "Then the two winners are ligand mols_ligs[614]: \n"
     ]
    },
    {
     "data": {
      "application/3dmoljs_load.v0": "<div id=\"3dmolviewer_15262272481982415\"  style=\"position: relative; width: 800px; height: 800px\">\n        <p id=\"3dmolwarning_15262272481982415\" style=\"background-color:#ffcccc;color:black\">You appear to be running in JupyterLab.  You need to install the 3dmol extension: <br>\n        <tt>jupyter labextension install jupyterlab_3dmol</tt></p>\n        </div>\n<script>\n\nvar loadScriptAsync = function(uri){\n  return new Promise((resolve, reject) => {\n    var tag = document.createElement('script');\n    tag.src = uri;\n    tag.async = true;\n    tag.onload = () => {\n      resolve();\n    };\n  var firstScriptTag = document.getElementsByTagName('script')[0];\n  firstScriptTag.parentNode.insertBefore(tag, firstScriptTag);\n});\n};\n\nif(typeof $3Dmolpromise === 'undefined') {\n$3Dmolpromise = null;\n  $3Dmolpromise = loadScriptAsync('https://3dmol.csb.pitt.edu/build/3Dmol.js');\n}\n\nvar viewer_15262272481982415 = null;\nvar warn = document.getElementById(\"3dmolwarning_15262272481982415\");\nif(warn) {\n    warn.parentNode.removeChild(warn);\n}\n$3Dmolpromise.then(function() {\nviewer_15262272481982415 = $3Dmol.createViewer($(\"#3dmolviewer_15262272481982415\"),{backgroundColor:\"white\"});\n\tviewer_15262272481982415.removeAllModels();\n\tviewer_15262272481982415.addModel(\"44213209\\n     RDKit          3D\\n\\n 29 32  0  0  1  0  0  0  0  0999 V2000\\n    1.6102    5.8677   -2.1606 Cl  0  0  0  0  0  0  0  0  0  0  0  0\\n   -1.6255    1.3155   -1.0470 S   0  0  0  0  0  0  0  0  0  0  0  0\\n   -4.4341    0.6074    1.7803 O   0  0  0  0  0  0  0  0  0  0  0  0\\n    0.6527   -0.9817   -0.2762 N   0  0  0  0  0  0  0  0  0  0  0  0\\n   -0.7437   -1.1696   -0.1323 C   0  0  0  0  0  0  0  0  0  0  0  0\\n   -0.9605   -2.4802    0.4091 C   0  0  0  0  0  0  0  0  0  0  0  0\\n    1.2952   -2.1159    0.2304 C   0  0  0  0  0  0  0  0  0  0  0  0\\n    0.3297   -3.0683    0.6517 C   0  0  0  0  0  0  0  0  0  0  0  0\\n    1.3796    0.1533   -0.8313 C   0  0  0  0  0  0  0  0  0  0  0  0\\n   -2.2885   -2.9315    0.6028 C   0  0  0  0  0  0  0  0  0  0  0  0\\n   -1.8631   -0.3311   -0.4262 C   0  0  0  0  0  0  0  0  0  0  0  0\\n   -3.1848   -0.8128   -0.2252 C   0  0  0  0  0  0  0  0  0  0  0  0\\n    1.7124    1.2009    0.2418 C   0  0  0  0  0  0  0  0  0  0  0  0\\n   -3.3785   -2.1110    0.2775 C   0  0  0  0  0  0  0  0  0  0  0  0\\n    2.6754   -2.3943    0.3490 C   0  0  0  0  0  0  0  0  0  0  0  0\\n    0.7927   -4.2989    1.1801 C   0  0  0  0  0  0  0  0  0  0  0  0\\n   -2.5541   -4.3142    1.1656 C   0  0  0  0  0  0  0  0  0  0  0  0\\n   -4.4396    0.0042   -0.5501 C   0  0  0  0  0  0  0  0  0  0  0  0\\n    2.4718    2.3816   -0.3308 C   0  0  0  0  0  0  0  0  0  0  0  0\\n    3.1110   -3.6205    0.8808 C   0  0  0  0  0  0  0  0  0  0  0  0\\n    2.1675   -4.5751    1.2951 C   0  0  0  0  0  0  0  0  0  0  0  0\\n    1.7702    3.4581   -0.9130 C   0  0  0  0  0  0  0  0  0  0  0  0\\n    3.8817    2.4065   -0.2907 C   0  0  0  0  0  0  0  0  0  0  0  0\\n   -5.1117    0.5246    0.7308 C   0  0  0  0  0  0  0  0  0  0  0  0\\n   -1.9622    2.4250    0.3456 C   0  0  0  0  0  0  0  0  0  0  0  0\\n    2.4736    4.5541   -1.4495 C   0  0  0  0  0  0  0  0  0  0  0  0\\n    4.5850    3.5027   -0.8271 C   0  0  0  0  0  0  0  0  0  0  0  0\\n    3.8814    4.5767   -1.4061 C   0  0  0  0  0  0  0  0  0  0  0  0\\n   -6.3139    0.8517    0.6279 O   0  0  0  0  0  0  0  0  0  0  0  0\\n  1 26  1  0\\n  2 11  1  0\\n  2 25  1  0\\n  3 24  2  0\\n  4  5  1  0\\n  4  7  1  0\\n  4  9  1  0\\n  5  6  1  0\\n  5 11  2  0\\n  6  8  1  0\\n  6 10  2  0\\n  7  8  2  0\\n  7 15  1  0\\n  8 16  1  0\\n  9 13  1  0\\n 10 14  1  0\\n 10 17  1  0\\n 11 12  1  0\\n 12 14  2  0\\n 12 18  1  0\\n 13 19  1  0\\n 15 20  2  0\\n 16 21  2  0\\n 18 24  1  0\\n 19 22  2  0\\n 19 23  1  0\\n 20 21  1  0\\n 22 26  1  0\\n 23 27  2  0\\n 24 29  1  0\\n 26 28  2  0\\n 27 28  1  0\\nM  CHG  1  29  -1\\nM  END\\n\",\"sdf\");\n\tviewer_15262272481982415.setStyle({\"stick\": {}});\n\tviewer_15262272481982415.setBackgroundColor(\"0xffffff\");\n\tviewer_15262272481982415.zoomTo();\nviewer_15262272481982415.render();\n});\n</script>",
      "text/html": [
       "<div id=\"3dmolviewer_15262272481982415\"  style=\"position: relative; width: 800px; height: 800px\">\n",
       "        <p id=\"3dmolwarning_15262272481982415\" style=\"background-color:#ffcccc;color:black\">You appear to be running in JupyterLab.  You need to install the 3dmol extension: <br>\n",
       "        <tt>jupyter labextension install jupyterlab_3dmol</tt></p>\n",
       "        </div>\n",
       "<script>\n",
       "\n",
       "var loadScriptAsync = function(uri){\n",
       "  return new Promise((resolve, reject) => {\n",
       "    var tag = document.createElement('script');\n",
       "    tag.src = uri;\n",
       "    tag.async = true;\n",
       "    tag.onload = () => {\n",
       "      resolve();\n",
       "    };\n",
       "  var firstScriptTag = document.getElementsByTagName('script')[0];\n",
       "  firstScriptTag.parentNode.insertBefore(tag, firstScriptTag);\n",
       "});\n",
       "};\n",
       "\n",
       "if(typeof $3Dmolpromise === 'undefined') {\n",
       "$3Dmolpromise = null;\n",
       "  $3Dmolpromise = loadScriptAsync('https://3dmol.csb.pitt.edu/build/3Dmol.js');\n",
       "}\n",
       "\n",
       "var viewer_15262272481982415 = null;\n",
       "var warn = document.getElementById(\"3dmolwarning_15262272481982415\");\n",
       "if(warn) {\n",
       "    warn.parentNode.removeChild(warn);\n",
       "}\n",
       "$3Dmolpromise.then(function() {\n",
       "viewer_15262272481982415 = $3Dmol.createViewer($(\"#3dmolviewer_15262272481982415\"),{backgroundColor:\"white\"});\n",
       "\tviewer_15262272481982415.removeAllModels();\n",
       "\tviewer_15262272481982415.addModel(\"44213209\\n     RDKit          3D\\n\\n 29 32  0  0  1  0  0  0  0  0999 V2000\\n    1.6102    5.8677   -2.1606 Cl  0  0  0  0  0  0  0  0  0  0  0  0\\n   -1.6255    1.3155   -1.0470 S   0  0  0  0  0  0  0  0  0  0  0  0\\n   -4.4341    0.6074    1.7803 O   0  0  0  0  0  0  0  0  0  0  0  0\\n    0.6527   -0.9817   -0.2762 N   0  0  0  0  0  0  0  0  0  0  0  0\\n   -0.7437   -1.1696   -0.1323 C   0  0  0  0  0  0  0  0  0  0  0  0\\n   -0.9605   -2.4802    0.4091 C   0  0  0  0  0  0  0  0  0  0  0  0\\n    1.2952   -2.1159    0.2304 C   0  0  0  0  0  0  0  0  0  0  0  0\\n    0.3297   -3.0683    0.6517 C   0  0  0  0  0  0  0  0  0  0  0  0\\n    1.3796    0.1533   -0.8313 C   0  0  0  0  0  0  0  0  0  0  0  0\\n   -2.2885   -2.9315    0.6028 C   0  0  0  0  0  0  0  0  0  0  0  0\\n   -1.8631   -0.3311   -0.4262 C   0  0  0  0  0  0  0  0  0  0  0  0\\n   -3.1848   -0.8128   -0.2252 C   0  0  0  0  0  0  0  0  0  0  0  0\\n    1.7124    1.2009    0.2418 C   0  0  0  0  0  0  0  0  0  0  0  0\\n   -3.3785   -2.1110    0.2775 C   0  0  0  0  0  0  0  0  0  0  0  0\\n    2.6754   -2.3943    0.3490 C   0  0  0  0  0  0  0  0  0  0  0  0\\n    0.7927   -4.2989    1.1801 C   0  0  0  0  0  0  0  0  0  0  0  0\\n   -2.5541   -4.3142    1.1656 C   0  0  0  0  0  0  0  0  0  0  0  0\\n   -4.4396    0.0042   -0.5501 C   0  0  0  0  0  0  0  0  0  0  0  0\\n    2.4718    2.3816   -0.3308 C   0  0  0  0  0  0  0  0  0  0  0  0\\n    3.1110   -3.6205    0.8808 C   0  0  0  0  0  0  0  0  0  0  0  0\\n    2.1675   -4.5751    1.2951 C   0  0  0  0  0  0  0  0  0  0  0  0\\n    1.7702    3.4581   -0.9130 C   0  0  0  0  0  0  0  0  0  0  0  0\\n    3.8817    2.4065   -0.2907 C   0  0  0  0  0  0  0  0  0  0  0  0\\n   -5.1117    0.5246    0.7308 C   0  0  0  0  0  0  0  0  0  0  0  0\\n   -1.9622    2.4250    0.3456 C   0  0  0  0  0  0  0  0  0  0  0  0\\n    2.4736    4.5541   -1.4495 C   0  0  0  0  0  0  0  0  0  0  0  0\\n    4.5850    3.5027   -0.8271 C   0  0  0  0  0  0  0  0  0  0  0  0\\n    3.8814    4.5767   -1.4061 C   0  0  0  0  0  0  0  0  0  0  0  0\\n   -6.3139    0.8517    0.6279 O   0  0  0  0  0  0  0  0  0  0  0  0\\n  1 26  1  0\\n  2 11  1  0\\n  2 25  1  0\\n  3 24  2  0\\n  4  5  1  0\\n  4  7  1  0\\n  4  9  1  0\\n  5  6  1  0\\n  5 11  2  0\\n  6  8  1  0\\n  6 10  2  0\\n  7  8  2  0\\n  7 15  1  0\\n  8 16  1  0\\n  9 13  1  0\\n 10 14  1  0\\n 10 17  1  0\\n 11 12  1  0\\n 12 14  2  0\\n 12 18  1  0\\n 13 19  1  0\\n 15 20  2  0\\n 16 21  2  0\\n 18 24  1  0\\n 19 22  2  0\\n 19 23  1  0\\n 20 21  1  0\\n 22 26  1  0\\n 23 27  2  0\\n 24 29  1  0\\n 26 28  2  0\\n 27 28  1  0\\nM  CHG  1  29  -1\\nM  END\\n\",\"sdf\");\n",
       "\tviewer_15262272481982415.setStyle({\"stick\": {}});\n",
       "\tviewer_15262272481982415.setBackgroundColor(\"0xffffff\");\n",
       "\tviewer_15262272481982415.zoomTo();\n",
       "viewer_15262272481982415.render();\n",
       "});\n",
       "</script>"
      ]
     },
     "metadata": {},
     "output_type": "display_data"
    },
    {
     "name": "stdout",
     "output_type": "stream",
     "text": [
      "and decoy mols_decs[21948]: \n"
     ]
    },
    {
     "data": {
      "application/3dmoljs_load.v0": "<div id=\"3dmolviewer_15262272482039938\"  style=\"position: relative; width: 800px; height: 800px\">\n        <p id=\"3dmolwarning_15262272482039938\" style=\"background-color:#ffcccc;color:black\">You appear to be running in JupyterLab.  You need to install the 3dmol extension: <br>\n        <tt>jupyter labextension install jupyterlab_3dmol</tt></p>\n        </div>\n<script>\n\nvar loadScriptAsync = function(uri){\n  return new Promise((resolve, reject) => {\n    var tag = document.createElement('script');\n    tag.src = uri;\n    tag.async = true;\n    tag.onload = () => {\n      resolve();\n    };\n  var firstScriptTag = document.getElementsByTagName('script')[0];\n  firstScriptTag.parentNode.insertBefore(tag, firstScriptTag);\n});\n};\n\nif(typeof $3Dmolpromise === 'undefined') {\n$3Dmolpromise = null;\n  $3Dmolpromise = loadScriptAsync('https://3dmol.csb.pitt.edu/build/3Dmol.js');\n}\n\nvar viewer_15262272482039938 = null;\nvar warn = document.getElementById(\"3dmolwarning_15262272482039938\");\nif(warn) {\n    warn.parentNode.removeChild(warn);\n}\n$3Dmolpromise.then(function() {\nviewer_15262272482039938 = $3Dmol.createViewer($(\"#3dmolviewer_15262272482039938\"),{backgroundColor:\"white\"});\n\tviewer_15262272482039938.removeAllModels();\n\tviewer_15262272482039938.addModel(\"ZINC36190361\\n     RDKit          3D\\n\\n 29 32  0  0  1  0  0  0  0  0999 V2000\\n   -1.7254    0.9653    1.8431 C   0  0  0  0  0  0  0  0  0  0  0  0\\n   -1.6541   -0.5438    1.6015 C   0  0  0  0  0  0  0  0  0  0  0  0\\n   -0.3103   -0.9071    0.4385 S   0  0  0  0  0  0  0  0  0  0  0  0\\n    0.9337   -0.5511    1.0259 O   0  0  0  0  0  0  0  0  0  0  0  0\\n   -0.2643   -2.6675    0.3768 C   0  0  0  0  0  0  0  0  0  0  0  0\\n   -0.0218   -3.3926    1.5229 C   0  0  0  0  0  0  0  0  0  0  0  0\\n    0.0168   -4.7795    1.4872 C   0  0  0  0  0  0  0  0  0  0  0  0\\n   -0.1847   -5.4498    0.3137 C   0  0  0  0  0  0  0  0  0  0  0  0\\n   -0.4322   -4.7360   -0.8606 C   0  0  0  0  0  0  0  0  0  0  0  0\\n   -0.4782   -3.3285   -0.8277 C   0  0  0  0  0  0  0  0  0  0  0  0\\n   -0.7440   -2.8985   -2.1096 N   0  0  0  0  0  0  0  0  0  0  0  0\\n   -0.8700   -3.9725   -2.9446 C   0  0  0  0  0  0  0  0  0  0  0  0\\n   -0.6836   -5.1104   -2.2486 C   0  0  0  0  0  0  0  0  0  0  0  0\\n   -0.7496   -6.4961   -2.8371 C   0  0  0  0  0  0  0  0  0  0  0  0\\n   -1.4296   -6.4094   -4.2090 C   0  0  0  0  0  0  0  0  0  0  0  0\\n   -0.7720   -5.2974   -5.0311 C   0  0  0  0  0  0  0  0  0  0  0  0\\n   -1.1582   -3.9353   -4.4280 C   0  0  2  0  0  0  0  0  0  0  0  0\\n   -0.3146   -2.8429   -5.0882 C   0  0  0  0  0  0  0  0  0  0  0  0\\n   -0.4443   -2.9445   -6.5862 C   0  0  0  0  0  0  0  0  0  0  0  0\\n   -1.1463   -3.8105   -7.0799 O   0  0  0  0  0  0  0  0  0  0  0  0\\n    0.1528   -2.1608   -7.3043 O   0  0  0  0  0  0  0  0  0  0  0  0\\n   -0.8728   -1.4971   -2.5167 C   0  0  0  0  0  0  0  0  0  0  0  0\\n   -2.3320   -1.1278   -2.5916 C   0  0  0  0  0  0  0  0  0  0  0  0\\n   -3.0615   -1.4215   -3.7285 C   0  0  0  0  0  0  0  0  0  0  0  0\\n   -4.3998   -1.0831   -3.7977 C   0  0  0  0  0  0  0  0  0  0  0  0\\n   -5.0093   -0.4503   -2.7290 C   0  0  0  0  0  0  0  0  0  0  0  0\\n   -4.2786   -0.1567   -1.5914 C   0  0  0  0  0  0  0  0  0  0  0  0\\n   -2.9418   -0.5006   -1.5211 C   0  0  0  0  0  0  0  0  0  0  0  0\\n   -6.6900   -0.0245   -2.8155 Cl  0  0  0  0  0  0  0  0  0  0  0  0\\n  1  2  1  0\\n  2  3  1  0\\n  3  4  2  0\\n  3  5  1  0\\n  5 10  2  0\\n  5  6  1  0\\n  6  7  2  0\\n  7  8  1  0\\n  8  9  2  0\\n  9 13  1  0\\n  9 10  1  0\\n 10 11  1  0\\n 11 12  1  0\\n 11 22  1  0\\n 12 17  1  0\\n 12 13  2  0\\n 13 14  1  0\\n 14 15  1  0\\n 15 16  1  0\\n 16 17  1  0\\n 17 18  1  1\\n 18 19  1  0\\n 19 20  2  0\\n 19 21  1  0\\n 22 23  1  0\\n 23 28  1  0\\n 23 24  2  0\\n 24 25  1  0\\n 25 26  2  0\\n 26 27  1  0\\n 26 29  1  0\\n 27 28  2  0\\nM  CHG  1  21  -1\\nM  END\\n\",\"sdf\");\n\tviewer_15262272482039938.setStyle({\"stick\": {}});\n\tviewer_15262272482039938.setBackgroundColor(\"0xffffff\");\n\tviewer_15262272482039938.zoomTo();\nviewer_15262272482039938.render();\n});\n</script>",
      "text/html": [
       "<div id=\"3dmolviewer_15262272482039938\"  style=\"position: relative; width: 800px; height: 800px\">\n",
       "        <p id=\"3dmolwarning_15262272482039938\" style=\"background-color:#ffcccc;color:black\">You appear to be running in JupyterLab.  You need to install the 3dmol extension: <br>\n",
       "        <tt>jupyter labextension install jupyterlab_3dmol</tt></p>\n",
       "        </div>\n",
       "<script>\n",
       "\n",
       "var loadScriptAsync = function(uri){\n",
       "  return new Promise((resolve, reject) => {\n",
       "    var tag = document.createElement('script');\n",
       "    tag.src = uri;\n",
       "    tag.async = true;\n",
       "    tag.onload = () => {\n",
       "      resolve();\n",
       "    };\n",
       "  var firstScriptTag = document.getElementsByTagName('script')[0];\n",
       "  firstScriptTag.parentNode.insertBefore(tag, firstScriptTag);\n",
       "});\n",
       "};\n",
       "\n",
       "if(typeof $3Dmolpromise === 'undefined') {\n",
       "$3Dmolpromise = null;\n",
       "  $3Dmolpromise = loadScriptAsync('https://3dmol.csb.pitt.edu/build/3Dmol.js');\n",
       "}\n",
       "\n",
       "var viewer_15262272482039938 = null;\n",
       "var warn = document.getElementById(\"3dmolwarning_15262272482039938\");\n",
       "if(warn) {\n",
       "    warn.parentNode.removeChild(warn);\n",
       "}\n",
       "$3Dmolpromise.then(function() {\n",
       "viewer_15262272482039938 = $3Dmol.createViewer($(\"#3dmolviewer_15262272482039938\"),{backgroundColor:\"white\"});\n",
       "\tviewer_15262272482039938.removeAllModels();\n",
       "\tviewer_15262272482039938.addModel(\"ZINC36190361\\n     RDKit          3D\\n\\n 29 32  0  0  1  0  0  0  0  0999 V2000\\n   -1.7254    0.9653    1.8431 C   0  0  0  0  0  0  0  0  0  0  0  0\\n   -1.6541   -0.5438    1.6015 C   0  0  0  0  0  0  0  0  0  0  0  0\\n   -0.3103   -0.9071    0.4385 S   0  0  0  0  0  0  0  0  0  0  0  0\\n    0.9337   -0.5511    1.0259 O   0  0  0  0  0  0  0  0  0  0  0  0\\n   -0.2643   -2.6675    0.3768 C   0  0  0  0  0  0  0  0  0  0  0  0\\n   -0.0218   -3.3926    1.5229 C   0  0  0  0  0  0  0  0  0  0  0  0\\n    0.0168   -4.7795    1.4872 C   0  0  0  0  0  0  0  0  0  0  0  0\\n   -0.1847   -5.4498    0.3137 C   0  0  0  0  0  0  0  0  0  0  0  0\\n   -0.4322   -4.7360   -0.8606 C   0  0  0  0  0  0  0  0  0  0  0  0\\n   -0.4782   -3.3285   -0.8277 C   0  0  0  0  0  0  0  0  0  0  0  0\\n   -0.7440   -2.8985   -2.1096 N   0  0  0  0  0  0  0  0  0  0  0  0\\n   -0.8700   -3.9725   -2.9446 C   0  0  0  0  0  0  0  0  0  0  0  0\\n   -0.6836   -5.1104   -2.2486 C   0  0  0  0  0  0  0  0  0  0  0  0\\n   -0.7496   -6.4961   -2.8371 C   0  0  0  0  0  0  0  0  0  0  0  0\\n   -1.4296   -6.4094   -4.2090 C   0  0  0  0  0  0  0  0  0  0  0  0\\n   -0.7720   -5.2974   -5.0311 C   0  0  0  0  0  0  0  0  0  0  0  0\\n   -1.1582   -3.9353   -4.4280 C   0  0  2  0  0  0  0  0  0  0  0  0\\n   -0.3146   -2.8429   -5.0882 C   0  0  0  0  0  0  0  0  0  0  0  0\\n   -0.4443   -2.9445   -6.5862 C   0  0  0  0  0  0  0  0  0  0  0  0\\n   -1.1463   -3.8105   -7.0799 O   0  0  0  0  0  0  0  0  0  0  0  0\\n    0.1528   -2.1608   -7.3043 O   0  0  0  0  0  0  0  0  0  0  0  0\\n   -0.8728   -1.4971   -2.5167 C   0  0  0  0  0  0  0  0  0  0  0  0\\n   -2.3320   -1.1278   -2.5916 C   0  0  0  0  0  0  0  0  0  0  0  0\\n   -3.0615   -1.4215   -3.7285 C   0  0  0  0  0  0  0  0  0  0  0  0\\n   -4.3998   -1.0831   -3.7977 C   0  0  0  0  0  0  0  0  0  0  0  0\\n   -5.0093   -0.4503   -2.7290 C   0  0  0  0  0  0  0  0  0  0  0  0\\n   -4.2786   -0.1567   -1.5914 C   0  0  0  0  0  0  0  0  0  0  0  0\\n   -2.9418   -0.5006   -1.5211 C   0  0  0  0  0  0  0  0  0  0  0  0\\n   -6.6900   -0.0245   -2.8155 Cl  0  0  0  0  0  0  0  0  0  0  0  0\\n  1  2  1  0\\n  2  3  1  0\\n  3  4  2  0\\n  3  5  1  0\\n  5 10  2  0\\n  5  6  1  0\\n  6  7  2  0\\n  7  8  1  0\\n  8  9  2  0\\n  9 13  1  0\\n  9 10  1  0\\n 10 11  1  0\\n 11 12  1  0\\n 11 22  1  0\\n 12 17  1  0\\n 12 13  2  0\\n 13 14  1  0\\n 14 15  1  0\\n 15 16  1  0\\n 16 17  1  0\\n 17 18  1  1\\n 18 19  1  0\\n 19 20  2  0\\n 19 21  1  0\\n 22 23  1  0\\n 23 28  1  0\\n 23 24  2  0\\n 24 25  1  0\\n 25 26  2  0\\n 26 27  1  0\\n 26 29  1  0\\n 27 28  2  0\\nM  CHG  1  21  -1\\nM  END\\n\",\"sdf\");\n",
       "\tviewer_15262272482039938.setStyle({\"stick\": {}});\n",
       "\tviewer_15262272482039938.setBackgroundColor(\"0xffffff\");\n",
       "\tviewer_15262272482039938.zoomTo();\n",
       "viewer_15262272482039938.render();\n",
       "});\n",
       "</script>"
      ]
     },
     "metadata": {},
     "output_type": "display_data"
    }
   ],
   "source": [
    "print(\"Then the two winners are ligand mols_ligs[614]: \")\n",
    "drawit(mols_ligs[614], width=800, height=800)\n",
    "print(\"and decoy mols_decs[21948]: \")\n",
    "drawit(mols_decs[21948], width=800, height=800)"
   ]
  }
 ],
 "metadata": {
  "kernelspec": {
   "display_name": "Python 3",
   "language": "python",
   "name": "python3"
  },
  "language_info": {
   "codemirror_mode": {
    "name": "ipython",
    "version": 3
   },
   "file_extension": ".py",
   "mimetype": "text/x-python",
   "name": "python",
   "nbconvert_exporter": "python",
   "pygments_lexer": "ipython3",
   "version": "3.6.0"
  }
 },
 "nbformat": 4,
 "nbformat_minor": 2
}
